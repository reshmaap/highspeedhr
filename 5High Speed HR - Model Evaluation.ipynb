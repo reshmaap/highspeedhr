{
 "cells": [
  {
   "cell_type": "code",
   "execution_count": 1,
   "id": "a2728cea",
   "metadata": {},
   "outputs": [],
   "source": [
    "import numpy as np\n",
    "import pandas as pd\n",
    "import ast\n",
    "\n",
    "import warnings\n",
    "warnings.filterwarnings('ignore')"
   ]
  },
  {
   "cell_type": "code",
   "execution_count": 2,
   "id": "9d38bd73",
   "metadata": {},
   "outputs": [],
   "source": [
    "#Read Data\n",
    "job_description_df = pd.read_csv(r\"job_description_text_processed.csv\")\n",
    "resume_df = pd.read_csv(r\"resume_processed.csv\")"
   ]
  },
  {
   "cell_type": "code",
   "execution_count": 3,
   "id": "ec6a803b",
   "metadata": {},
   "outputs": [
    {
     "data": {
      "text/plain": [
       "Category\n",
       "Data Science      0.742857\n",
       "Database          0.625000\n",
       "Java Developer    0.968750\n",
       "Name: Occurrences_Ratio, dtype: float64"
      ]
     },
     "execution_count": 3,
     "metadata": {},
     "output_type": "execute_result"
    }
   ],
   "source": [
    "#Model Valuation\n",
    "val_df = job_description_df[[\"Category\",\"top_5_resume_category\"]]\n",
    "val_df['top_5_resume_category'] = val_df['top_5_resume_category'].apply(ast.literal_eval)\n",
    "val_df['Occurrences'] = val_df.apply(lambda row: sum(row['Category'] in sublist for sublist in row['top_5_resume_category']), axis=1)\n",
    "val_df['Occurrences_Ratio'] = val_df['Occurrences']/5\n",
    "val_df.groupby(\"Category\")[\"Occurrences_Ratio\"].mean()"
   ]
  },
  {
   "cell_type": "code",
   "execution_count": 4,
   "id": "1edbee7b",
   "metadata": {},
   "outputs": [
    {
     "data": {
      "text/plain": [
       "0.7952380952380952"
      ]
     },
     "execution_count": 4,
     "metadata": {},
     "output_type": "execute_result"
    }
   ],
   "source": [
    "val_df[\"Occurrences_Ratio\"].mean()"
   ]
  },
  {
   "cell_type": "code",
   "execution_count": null,
   "id": "af278f69",
   "metadata": {},
   "outputs": [],
   "source": []
  }
 ],
 "metadata": {
  "kernelspec": {
   "display_name": "Python 3 (ipykernel)",
   "language": "python",
   "name": "python3"
  },
  "language_info": {
   "codemirror_mode": {
    "name": "ipython",
    "version": 3
   },
   "file_extension": ".py",
   "mimetype": "text/x-python",
   "name": "python",
   "nbconvert_exporter": "python",
   "pygments_lexer": "ipython3",
   "version": "3.10.9"
  }
 },
 "nbformat": 4,
 "nbformat_minor": 5
}
